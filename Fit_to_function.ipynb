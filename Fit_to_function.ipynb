{
 "cells": [
  {
   "attachments": {},
   "cell_type": "markdown",
   "metadata": {},
   "source": [
    "# Fitting a function to data"
   ]
  },
  {
   "cell_type": "code",
   "execution_count": 13,
   "metadata": {},
   "outputs": [],
   "source": [
    "import pandas as pd\n",
    "import numpy as np\n",
    "import matplotlib.pyplot as plt\n",
    "import scipy.stats as ss\n",
    "from scipy.optimize import curve_fit\n",
    "import ipywidgets as widgets\n",
    "from IPython.display import display\n",
    "import random\n",
    "import functions"
   ]
  },
  {
   "cell_type": "code",
   "execution_count": 15,
   "metadata": {},
   "outputs": [
    {
     "data": {
      "application/vnd.jupyter.widget-view+json": {
       "model_id": "e7b56697f6324313a5c76da2f52f2295",
       "version_major": 2,
       "version_minor": 0
      },
      "text/plain": [
       "interactive(children=(FloatSlider(value=5.0, description='noise level', max=50.0, readout_format='.0f', step=1…"
      ]
     },
     "metadata": {},
     "output_type": "display_data"
    }
   ],
   "source": [
    "# make the random numbers predictable\n",
    "np.random.seed(46)\n",
    "# define the function to fit\n",
    "def func(x, a, b):\n",
    "    return a * x/(x+b)\n",
    "# set the parameters for the function\n",
    "a = 2\n",
    "b = 1\n",
    "# make sliders for the noise level and the number of points\n",
    "display(plot_widget)\n",
    "# plot_data_with_noise(x, y, noise_level)\n"
   ]
  },
  {
   "cell_type": "code",
   "execution_count": 11,
   "metadata": {},
   "outputs": [
    {
     "name": "stdout",
     "output_type": "stream",
     "text": [
      "a =, 2.0\n",
      "b =, 1.0\n",
      "noise level = 10.0 %\n",
      "a_fit =, 2.09 +/- 0.06\n",
      "b_fit =, 1.22 +/- 0.17\n"
     ]
    },
    {
     "data": {
      "image/png": "[encoded data removed]",
      "text/plain": [
       "<Figure size 640x480 with 1 Axes>"
      ]
     },
     "metadata": {},
     "output_type": "display_data"
    }
   ],
   "source": [
    "# assign the values of the slider to the noise_level variable\n",
    "n = n_slider.value\n",
    "noise_level = noise_level_slider.value\n",
    "x = np.linspace(0, 10,n)\n",
    "y = func(x,a,b)\n",
    "noise1 = np.random.normal(loc=0.0, scale= y.max()/100* noise_level, size=len(x)) # numpy.random\n",
    "noise_ss = ss.norm.rvs(loc=0.0, scale = y.max()/100* noise_level, size=len(x)) # scipy.stats\n",
    "y_exp = y + noise1\n",
    "y_exp_ss = y + noise_ss\n",
    "# plot data\n",
    "# fit the function\n",
    "a_init = 1\n",
    "b_init = 1\n",
    "popt, pcov = curve_fit(func, x, y_exp, p0=(a_init, b_init))\n",
    "# print the values for a and b \n",
    "print(f'a =, {a:.1f}')\n",
    "print(f'b =, {b:.1f}')\n",
    "print(f'noise level = {noise_level:.1f} %')\n",
    "# print the fit parameters\n",
    "print(f'a_fit =, {popt[0]:.2f} +/- {np.sqrt(pcov[0,0]):.2f}')\n",
    "print(f'b_fit =, {popt[1]:.2f} +/- {np.sqrt(pcov[1,1]):.2f}')\n",
    "\n",
    "# plot the fit\n",
    "# plt.scatter(x, y, label='data')\n",
    "plt.scatter(x, y_exp, label='data with noise')\n",
    "# plt.scatter(x, y_exp_ss, label='data with noise scipy.stats')\n",
    "# include the the error of the fit parameters in the legend\n",
    "plt.plot(x, func(x, popt[0]+pcov[0,0], popt[1]+pcov[1,1]), 'r--', label='fit: a=%5.2f, b=%5.2f' % tuple(popt+pcov[0,0]))\n",
    "# label the axes\n",
    "plt.xlabel('x')\n",
    "plt.ylabel('y')\n",
    "# show the plot\n",
    "plt.legend()\n",
    "plt.show()\n"
   ]
  },
  {
   "attachments": {},
   "cell_type": "markdown",
   "metadata": {},
   "source": [
    "## Watermark"
   ]
  },
  {
   "cell_type": "code",
   "execution_count": 35,
   "metadata": {},
   "outputs": [
    {
     "name": "stdout",
     "output_type": "stream",
     "text": [
      "The watermark extension is already loaded. To reload it, use:\n",
      "  %reload_ext watermark\n",
      "Python implementation: CPython\n",
      "Python version       : 3.9.15\n",
      "IPython version      : 8.7.0\n",
      "\n",
      "conda environment: python3915\n",
      "\n",
      "ipywidgets: 8.0.4\n",
      "matplotlib: 3.6.2\n",
      "pandas    : 1.5.2\n",
      "scipy     : 1.8.1\n",
      "numpy     : 1.23.5\n",
      "\n",
      "Python implementation: CPython\n",
      "Python version       : 3.9.15\n",
      "IPython version      : 8.7.0\n",
      "\n",
      "numpy     : 1.23.5\n",
      "scipy     : 1.8.1\n",
      "matplotlib: 3.6.2\n",
      "pandas    : 1.5.2\n",
      "watermark : 2.3.1\n",
      "\n",
      "Compiler    : MSC v.1916 64 bit (AMD64)\n",
      "OS          : Windows\n",
      "Release     : 10\n",
      "Machine     : AMD64\n",
      "Processor   : Intel64 Family 6 Model 142 Stepping 11, GenuineIntel\n",
      "CPU cores   : 8\n",
      "Architecture: 64bit\n",
      "\n",
      "Last updated: Sun Mar 26 2023 18:07:41Mitteleuropäische Sommerzeit\n",
      "\n"
     ]
    }
   ],
   "source": [
    "%load_ext watermark\n",
    "%watermark -v\n",
    "%watermark --conda\n",
    "%watermark --iversions\n",
    "%watermark -v -m -p numpy,scipy,matplotlib,pandas,watermark\n",
    "%watermark -u -n -t -z"
   ]
  }
 ],
 "metadata": {
  "kernelspec": {
   "display_name": "python3915",
   "language": "python",
   "name": "python3"
  },
  "language_info": {
   "codemirror_mode": {
    "name": "ipython",
    "version": 3
   },
   "file_extension": ".py",
   "mimetype": "text/x-python",
   "name": "python",
   "nbconvert_exporter": "python",
   "pygments_lexer": "ipython3",
   "version": "3.9.13"
  },
  "orig_nbformat": 4
 },
 "nbformat": 4,
 "nbformat_minor": 2
}
